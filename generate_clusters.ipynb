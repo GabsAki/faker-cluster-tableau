{
 "cells": [
  {
   "cell_type": "markdown",
   "metadata": {},
   "source": [
    "# Read data"
   ]
  },
  {
   "cell_type": "markdown",
   "metadata": {},
   "source": [
    "The data was downloaded from the this [kaggle dataset](https://www.kaggle.com/datasets/sahirmaharajj/crime-data-from-2020-to-present-updated-monthly).\n",
    "\n",
    "Since the original dataset is quite large to upload on github, we will be using a sample of 1,000 rows."
   ]
  },
  {
   "cell_type": "code",
   "execution_count": 1,
   "metadata": {},
   "outputs": [
    {
     "data": {
      "text/html": [
       "<div>\n",
       "<style scoped>\n",
       "    .dataframe tbody tr th:only-of-type {\n",
       "        vertical-align: middle;\n",
       "    }\n",
       "\n",
       "    .dataframe tbody tr th {\n",
       "        vertical-align: top;\n",
       "    }\n",
       "\n",
       "    .dataframe thead th {\n",
       "        text-align: right;\n",
       "    }\n",
       "</style>\n",
       "<table border=\"1\" class=\"dataframe\">\n",
       "  <thead>\n",
       "    <tr style=\"text-align: right;\">\n",
       "      <th></th>\n",
       "      <th>DR_NO</th>\n",
       "      <th>Date Rptd</th>\n",
       "      <th>DATE OCC</th>\n",
       "      <th>TIME OCC</th>\n",
       "      <th>AREA</th>\n",
       "      <th>AREA NAME</th>\n",
       "      <th>Rpt Dist No</th>\n",
       "      <th>Part 1-2</th>\n",
       "      <th>Crm Cd</th>\n",
       "      <th>Crm Cd Desc</th>\n",
       "      <th>...</th>\n",
       "      <th>Status</th>\n",
       "      <th>Status Desc</th>\n",
       "      <th>Crm Cd 1</th>\n",
       "      <th>Crm Cd 2</th>\n",
       "      <th>Crm Cd 3</th>\n",
       "      <th>Crm Cd 4</th>\n",
       "      <th>LOCATION</th>\n",
       "      <th>Cross Street</th>\n",
       "      <th>LAT</th>\n",
       "      <th>LON</th>\n",
       "    </tr>\n",
       "  </thead>\n",
       "  <tbody>\n",
       "    <tr>\n",
       "      <th>0</th>\n",
       "      <td>190326475</td>\n",
       "      <td>03/01/2020 12:00:00 AM</td>\n",
       "      <td>03/01/2020 12:00:00 AM</td>\n",
       "      <td>2130</td>\n",
       "      <td>7</td>\n",
       "      <td>Wilshire</td>\n",
       "      <td>784</td>\n",
       "      <td>1</td>\n",
       "      <td>510</td>\n",
       "      <td>VEHICLE - STOLEN</td>\n",
       "      <td>...</td>\n",
       "      <td>AA</td>\n",
       "      <td>Adult Arrest</td>\n",
       "      <td>510.0</td>\n",
       "      <td>998.0</td>\n",
       "      <td>NaN</td>\n",
       "      <td>NaN</td>\n",
       "      <td>1900 S  LONGWOOD                     AV</td>\n",
       "      <td>NaN</td>\n",
       "      <td>34.0375</td>\n",
       "      <td>-118.3506</td>\n",
       "    </tr>\n",
       "    <tr>\n",
       "      <th>1</th>\n",
       "      <td>200106753</td>\n",
       "      <td>02/09/2020 12:00:00 AM</td>\n",
       "      <td>02/08/2020 12:00:00 AM</td>\n",
       "      <td>1800</td>\n",
       "      <td>1</td>\n",
       "      <td>Central</td>\n",
       "      <td>182</td>\n",
       "      <td>1</td>\n",
       "      <td>330</td>\n",
       "      <td>BURGLARY FROM VEHICLE</td>\n",
       "      <td>...</td>\n",
       "      <td>IC</td>\n",
       "      <td>Invest Cont</td>\n",
       "      <td>330.0</td>\n",
       "      <td>998.0</td>\n",
       "      <td>NaN</td>\n",
       "      <td>NaN</td>\n",
       "      <td>1000 S  FLOWER                       ST</td>\n",
       "      <td>NaN</td>\n",
       "      <td>34.0444</td>\n",
       "      <td>-118.2628</td>\n",
       "    </tr>\n",
       "    <tr>\n",
       "      <th>2</th>\n",
       "      <td>200320258</td>\n",
       "      <td>11/11/2020 12:00:00 AM</td>\n",
       "      <td>11/04/2020 12:00:00 AM</td>\n",
       "      <td>1700</td>\n",
       "      <td>3</td>\n",
       "      <td>Southwest</td>\n",
       "      <td>356</td>\n",
       "      <td>1</td>\n",
       "      <td>480</td>\n",
       "      <td>BIKE - STOLEN</td>\n",
       "      <td>...</td>\n",
       "      <td>IC</td>\n",
       "      <td>Invest Cont</td>\n",
       "      <td>480.0</td>\n",
       "      <td>NaN</td>\n",
       "      <td>NaN</td>\n",
       "      <td>NaN</td>\n",
       "      <td>1400 W  37TH                         ST</td>\n",
       "      <td>NaN</td>\n",
       "      <td>34.0210</td>\n",
       "      <td>-118.3002</td>\n",
       "    </tr>\n",
       "    <tr>\n",
       "      <th>3</th>\n",
       "      <td>200907217</td>\n",
       "      <td>05/10/2023 12:00:00 AM</td>\n",
       "      <td>03/10/2020 12:00:00 AM</td>\n",
       "      <td>2037</td>\n",
       "      <td>9</td>\n",
       "      <td>Van Nuys</td>\n",
       "      <td>964</td>\n",
       "      <td>1</td>\n",
       "      <td>343</td>\n",
       "      <td>SHOPLIFTING-GRAND THEFT ($950.01 &amp; OVER)</td>\n",
       "      <td>...</td>\n",
       "      <td>IC</td>\n",
       "      <td>Invest Cont</td>\n",
       "      <td>343.0</td>\n",
       "      <td>NaN</td>\n",
       "      <td>NaN</td>\n",
       "      <td>NaN</td>\n",
       "      <td>14000    RIVERSIDE                    DR</td>\n",
       "      <td>NaN</td>\n",
       "      <td>34.1576</td>\n",
       "      <td>-118.4387</td>\n",
       "    </tr>\n",
       "    <tr>\n",
       "      <th>4</th>\n",
       "      <td>220614831</td>\n",
       "      <td>08/18/2022 12:00:00 AM</td>\n",
       "      <td>08/17/2020 12:00:00 AM</td>\n",
       "      <td>1200</td>\n",
       "      <td>6</td>\n",
       "      <td>Hollywood</td>\n",
       "      <td>666</td>\n",
       "      <td>2</td>\n",
       "      <td>354</td>\n",
       "      <td>THEFT OF IDENTITY</td>\n",
       "      <td>...</td>\n",
       "      <td>IC</td>\n",
       "      <td>Invest Cont</td>\n",
       "      <td>354.0</td>\n",
       "      <td>NaN</td>\n",
       "      <td>NaN</td>\n",
       "      <td>NaN</td>\n",
       "      <td>1900    TRANSIENT</td>\n",
       "      <td>NaN</td>\n",
       "      <td>34.0944</td>\n",
       "      <td>-118.3277</td>\n",
       "    </tr>\n",
       "  </tbody>\n",
       "</table>\n",
       "<p>5 rows × 28 columns</p>\n",
       "</div>"
      ],
      "text/plain": [
       "       DR_NO               Date Rptd                DATE OCC  TIME OCC  AREA  \\\n",
       "0  190326475  03/01/2020 12:00:00 AM  03/01/2020 12:00:00 AM      2130     7   \n",
       "1  200106753  02/09/2020 12:00:00 AM  02/08/2020 12:00:00 AM      1800     1   \n",
       "2  200320258  11/11/2020 12:00:00 AM  11/04/2020 12:00:00 AM      1700     3   \n",
       "3  200907217  05/10/2023 12:00:00 AM  03/10/2020 12:00:00 AM      2037     9   \n",
       "4  220614831  08/18/2022 12:00:00 AM  08/17/2020 12:00:00 AM      1200     6   \n",
       "\n",
       "   AREA NAME  Rpt Dist No  Part 1-2  Crm Cd  \\\n",
       "0   Wilshire          784         1     510   \n",
       "1    Central          182         1     330   \n",
       "2  Southwest          356         1     480   \n",
       "3   Van Nuys          964         1     343   \n",
       "4  Hollywood          666         2     354   \n",
       "\n",
       "                                Crm Cd Desc  ... Status   Status Desc  \\\n",
       "0                          VEHICLE - STOLEN  ...     AA  Adult Arrest   \n",
       "1                     BURGLARY FROM VEHICLE  ...     IC   Invest Cont   \n",
       "2                             BIKE - STOLEN  ...     IC   Invest Cont   \n",
       "3  SHOPLIFTING-GRAND THEFT ($950.01 & OVER)  ...     IC   Invest Cont   \n",
       "4                         THEFT OF IDENTITY  ...     IC   Invest Cont   \n",
       "\n",
       "  Crm Cd 1 Crm Cd 2  Crm Cd 3 Crm Cd 4  \\\n",
       "0    510.0    998.0       NaN      NaN   \n",
       "1    330.0    998.0       NaN      NaN   \n",
       "2    480.0      NaN       NaN      NaN   \n",
       "3    343.0      NaN       NaN      NaN   \n",
       "4    354.0      NaN       NaN      NaN   \n",
       "\n",
       "                                   LOCATION Cross Street      LAT       LON  \n",
       "0   1900 S  LONGWOOD                     AV          NaN  34.0375 -118.3506  \n",
       "1   1000 S  FLOWER                       ST          NaN  34.0444 -118.2628  \n",
       "2   1400 W  37TH                         ST          NaN  34.0210 -118.3002  \n",
       "3  14000    RIVERSIDE                    DR          NaN  34.1576 -118.4387  \n",
       "4                         1900    TRANSIENT          NaN  34.0944 -118.3277  \n",
       "\n",
       "[5 rows x 28 columns]"
      ]
     },
     "execution_count": 1,
     "metadata": {},
     "output_type": "execute_result"
    }
   ],
   "source": [
    "import pandas as pd\n",
    "\n",
    "df = pd.read_csv(\"input/crime_data_sample.csv\")\n",
    "\n",
    "df.head()"
   ]
  },
  {
   "cell_type": "code",
   "execution_count": 2,
   "metadata": {},
   "outputs": [
    {
     "name": "stdout",
     "output_type": "stream",
     "text": [
      "<class 'pandas.core.frame.DataFrame'>\n",
      "RangeIndex: 1000 entries, 0 to 999\n",
      "Data columns (total 28 columns):\n",
      " #   Column          Non-Null Count  Dtype  \n",
      "---  ------          --------------  -----  \n",
      " 0   DR_NO           1000 non-null   int64  \n",
      " 1   Date Rptd       1000 non-null   object \n",
      " 2   DATE OCC        1000 non-null   object \n",
      " 3   TIME OCC        1000 non-null   int64  \n",
      " 4   AREA            1000 non-null   int64  \n",
      " 5   AREA NAME       1000 non-null   object \n",
      " 6   Rpt Dist No     1000 non-null   int64  \n",
      " 7   Part 1-2        1000 non-null   int64  \n",
      " 8   Crm Cd          1000 non-null   int64  \n",
      " 9   Crm Cd Desc     1000 non-null   object \n",
      " 10  Mocodes         902 non-null    object \n",
      " 11  Vict Age        1000 non-null   int64  \n",
      " 12  Vict Sex        937 non-null    object \n",
      " 13  Vict Descent    937 non-null    object \n",
      " 14  Premis Cd       1000 non-null   float64\n",
      " 15  Premis Desc     1000 non-null   object \n",
      " 16  Weapon Used Cd  202 non-null    float64\n",
      " 17  Weapon Desc     202 non-null    object \n",
      " 18  Status          1000 non-null   object \n",
      " 19  Status Desc     1000 non-null   object \n",
      " 20  Crm Cd 1        1000 non-null   float64\n",
      " 21  Crm Cd 2        56 non-null     float64\n",
      " 22  Crm Cd 3        1 non-null      float64\n",
      " 23  Crm Cd 4        0 non-null      float64\n",
      " 24  LOCATION        1000 non-null   object \n",
      " 25  Cross Street    48 non-null     object \n",
      " 26  LAT             1000 non-null   float64\n",
      " 27  LON             1000 non-null   float64\n",
      "dtypes: float64(8), int64(7), object(13)\n",
      "memory usage: 218.9+ KB\n"
     ]
    }
   ],
   "source": [
    "df.info()"
   ]
  },
  {
   "cell_type": "code",
   "execution_count": 2,
   "metadata": {},
   "outputs": [
    {
     "data": {
      "text/plain": [
       "AREA NAME\n",
       "Central        62523\n",
       "77th Street    57392\n",
       "Pacific        53582\n",
       "Southwest      51643\n",
       "Hollywood      48357\n",
       "Olympic        46459\n",
       "Southeast      46340\n",
       "N Hollywood    46078\n",
       "Newton         45712\n",
       "Wilshire       44112\n",
       "Rampart        43225\n",
       "West LA        42144\n",
       "Northeast      39463\n",
       "Van Nuys       38824\n",
       "West Valley    38605\n",
       "Harbor         37818\n",
       "Devonshire     37549\n",
       "Topanga        37499\n",
       "Mission        36534\n",
       "Hollenbeck     34203\n",
       "Foothill       30381\n",
       "Name: count, dtype: int64"
      ]
     },
     "execution_count": 2,
     "metadata": {},
     "output_type": "execute_result"
    }
   ],
   "source": [
    "df[\"AREA NAME\"].value_counts()"
   ]
  },
  {
   "cell_type": "markdown",
   "metadata": {},
   "source": [
    "We have 21 areas in the dataset, which is quite a big number for a categorical column.\n",
    "\n",
    "We will group this areas into fictional bigger regions."
   ]
  },
  {
   "cell_type": "markdown",
   "metadata": {},
   "source": [
    "# Grouping areas into regions"
   ]
  },
  {
   "cell_type": "code",
   "execution_count": 11,
   "metadata": {},
   "outputs": [],
   "source": [
    "# Created by looking at LA map\n",
    "regions = {\n",
    "    \"Central\": [\"Central\",\"Hollywood\", \"Olympic\", \"Newton\", \"Wilshire\", \"Rampart\", \"Hollenbeck\", \"Pacific\"],\n",
    "    \"Northeast\": [\"Northeast\", \"N Hollywood\", \"Foothill\", \"Mission\"],\n",
    "    \"South\": [\"Southwest\", \"Southeast\", \"Harbor\", \"77th Street\"],\n",
    "    \"Northwest\": [\"Van Nuys\", \"West Valley\", \"Devonshire\", \"West LA\", \"Topanga\"]\n",
    "}"
   ]
  },
  {
   "cell_type": "code",
   "execution_count": 9,
   "metadata": {},
   "outputs": [],
   "source": [
    "def find_region(area_name):\n",
    "    for region in regions.keys():\n",
    "        if area_name in regions[region]:\n",
    "            return region"
   ]
  },
  {
   "cell_type": "code",
   "execution_count": 12,
   "metadata": {},
   "outputs": [
    {
     "data": {
      "text/plain": [
       "region\n",
       "Central      362\n",
       "South        237\n",
       "Northwest    215\n",
       "Northeast    186\n",
       "Name: count, dtype: int64"
      ]
     },
     "execution_count": 12,
     "metadata": {},
     "output_type": "execute_result"
    }
   ],
   "source": [
    "df[\"region\"] = df[\"AREA NAME\"].apply(find_region)\n",
    "df[\"region\"].value_counts()"
   ]
  },
  {
   "cell_type": "markdown",
   "metadata": {},
   "source": [
    "The dataset was chosen for the project because it contains a good amount of rows and columns and a date columns that spans through various years.\n",
    "\n",
    "However, for our project, we needed to create dashboards for a ficticional company, and companies need customers.\n",
    "\n",
    "For this, we were allowed to create sythetic data."
   ]
  },
  {
   "cell_type": "markdown",
   "metadata": {},
   "source": [
    "# Generate customers dataset"
   ]
  },
  {
   "cell_type": "code",
   "execution_count": 6,
   "metadata": {},
   "outputs": [
    {
     "name": "stdout",
     "output_type": "stream",
     "text": [
      "Min occorance date: 01/01/2020 12:00:00 AM\n",
      "Max occurance date: 12/31/2020 12:00:00 AM\n"
     ]
    }
   ],
   "source": [
    "# Let's find out the min and max date of occurance, so we keep customers creation data in line with the dataset.\n",
    "print(f\"Min occorance date: {df['DATE OCC'].min()}\")\n",
    "print(f\"Max occurance date: {df['DATE OCC'].max()}\")"
   ]
  },
  {
   "cell_type": "code",
   "execution_count": 8,
   "metadata": {},
   "outputs": [],
   "source": [
    "from faker import Faker\n",
    "import random\n",
    "from datetime import datetime\n",
    "from typing import OrderedDict\n",
    "\n",
    "# Initialize Faker\n",
    "fake = Faker()\n",
    "Faker.seed(1234)"
   ]
  },
  {
   "cell_type": "markdown",
   "metadata": {},
   "source": [
    "We can create customers and customer data in a totally randomized way, but finding trends in these for the report later will be challenging as any discovery would be merely coincidence.\n",
    "\n",
    "Let's insert some sythetic trends in this data also."
   ]
  },
  {
   "cell_type": "code",
   "execution_count": 13,
   "metadata": {},
   "outputs": [],
   "source": [
    "def generate_customer_dataset(num_rows):\n",
    "    dataset = []\n",
    "    for _ in range(num_rows):\n",
    "        customer_id = fake.unique.random_int(min=1, max=999999)\n",
    "\n",
    "        # Using the dates we found earlier\n",
    "        registration_date = fake.date_between_dates(date_start=datetime(2020, 1, 1), date_end=datetime(2020, 12, 31))\n",
    "\n",
    "        # We want to create three clusters of customers that later on can be separated by analysing the region.\n",
    "        # We are going to assign customers to regions according to proportions\n",
    "        region = fake.random_element(elements=OrderedDict([(\"North\", 0.3), (\"Central\", 0.5), (\"South\", 0.2)]))  \n",
    "        dataset.append((customer_id, registration_date, region))\n",
    "    \n",
    "    return pd.DataFrame(dataset, columns=['customer_id', 'registration_date', 'region'])\n"
   ]
  },
  {
   "cell_type": "code",
   "execution_count": 15,
   "metadata": {},
   "outputs": [
    {
     "data": {
      "text/html": [
       "<div>\n",
       "<style scoped>\n",
       "    .dataframe tbody tr th:only-of-type {\n",
       "        vertical-align: middle;\n",
       "    }\n",
       "\n",
       "    .dataframe tbody tr th {\n",
       "        vertical-align: top;\n",
       "    }\n",
       "\n",
       "    .dataframe thead th {\n",
       "        text-align: right;\n",
       "    }\n",
       "</style>\n",
       "<table border=\"1\" class=\"dataframe\">\n",
       "  <thead>\n",
       "    <tr style=\"text-align: right;\">\n",
       "      <th></th>\n",
       "      <th>customer_id</th>\n",
       "      <th>registration_date</th>\n",
       "      <th>region</th>\n",
       "    </tr>\n",
       "  </thead>\n",
       "  <tbody>\n",
       "    <tr>\n",
       "      <th>0</th>\n",
       "      <td>529746</td>\n",
       "      <td>2020-12-01</td>\n",
       "      <td>North</td>\n",
       "    </tr>\n",
       "    <tr>\n",
       "      <th>1</th>\n",
       "      <td>268877</td>\n",
       "      <td>2020-06-04</td>\n",
       "      <td>Central</td>\n",
       "    </tr>\n",
       "    <tr>\n",
       "      <th>2</th>\n",
       "      <td>752335</td>\n",
       "      <td>2020-12-05</td>\n",
       "      <td>Central</td>\n",
       "    </tr>\n",
       "    <tr>\n",
       "      <th>3</th>\n",
       "      <td>372424</td>\n",
       "      <td>2020-10-04</td>\n",
       "      <td>North</td>\n",
       "    </tr>\n",
       "    <tr>\n",
       "      <th>4</th>\n",
       "      <td>26689</td>\n",
       "      <td>2020-02-08</td>\n",
       "      <td>Central</td>\n",
       "    </tr>\n",
       "  </tbody>\n",
       "</table>\n",
       "</div>"
      ],
      "text/plain": [
       "   customer_id registration_date   region\n",
       "0       529746        2020-12-01    North\n",
       "1       268877        2020-06-04  Central\n",
       "2       752335        2020-12-05  Central\n",
       "3       372424        2020-10-04    North\n",
       "4        26689        2020-02-08  Central"
      ]
     },
     "execution_count": 15,
     "metadata": {},
     "output_type": "execute_result"
    }
   ],
   "source": [
    "# Creating a dataset with 5,104 rows\n",
    "df_customers = generate_customer_dataset(5104)\n",
    "df_customers.head()"
   ]
  },
  {
   "cell_type": "code",
   "execution_count": 16,
   "metadata": {},
   "outputs": [],
   "source": [
    "# region is not a column that exists in the original dataset.\n",
    "# To join customers to the original dataset, we will use area_name, and for that we need to add that column to our customers table\n",
    "def add_area_to_customer(region):\n",
    "    if region == \"North\":\n",
    "        return fake.random_element(elements=regions[\"Northeast\"]+regions[\"Northwest\"])\n",
    "    else:\n",
    "        return fake.random_element(elements=regions[region])"
   ]
  },
  {
   "cell_type": "code",
   "execution_count": 19,
   "metadata": {},
   "outputs": [
    {
     "data": {
      "text/html": [
       "<div>\n",
       "<style scoped>\n",
       "    .dataframe tbody tr th:only-of-type {\n",
       "        vertical-align: middle;\n",
       "    }\n",
       "\n",
       "    .dataframe tbody tr th {\n",
       "        vertical-align: top;\n",
       "    }\n",
       "\n",
       "    .dataframe thead th {\n",
       "        text-align: right;\n",
       "    }\n",
       "</style>\n",
       "<table border=\"1\" class=\"dataframe\">\n",
       "  <thead>\n",
       "    <tr style=\"text-align: right;\">\n",
       "      <th></th>\n",
       "      <th>customer_id</th>\n",
       "      <th>registration_date</th>\n",
       "      <th>region</th>\n",
       "      <th>area_name</th>\n",
       "    </tr>\n",
       "  </thead>\n",
       "  <tbody>\n",
       "    <tr>\n",
       "      <th>0</th>\n",
       "      <td>529746</td>\n",
       "      <td>2020-12-01</td>\n",
       "      <td>North</td>\n",
       "      <td>Topanga</td>\n",
       "    </tr>\n",
       "    <tr>\n",
       "      <th>1</th>\n",
       "      <td>268877</td>\n",
       "      <td>2020-06-04</td>\n",
       "      <td>Central</td>\n",
       "      <td>Wilshire</td>\n",
       "    </tr>\n",
       "    <tr>\n",
       "      <th>2</th>\n",
       "      <td>752335</td>\n",
       "      <td>2020-12-05</td>\n",
       "      <td>Central</td>\n",
       "      <td>Rampart</td>\n",
       "    </tr>\n",
       "    <tr>\n",
       "      <th>3</th>\n",
       "      <td>372424</td>\n",
       "      <td>2020-10-04</td>\n",
       "      <td>North</td>\n",
       "      <td>Northeast</td>\n",
       "    </tr>\n",
       "    <tr>\n",
       "      <th>4</th>\n",
       "      <td>26689</td>\n",
       "      <td>2020-02-08</td>\n",
       "      <td>Central</td>\n",
       "      <td>Rampart</td>\n",
       "    </tr>\n",
       "  </tbody>\n",
       "</table>\n",
       "</div>"
      ],
      "text/plain": [
       "   customer_id registration_date   region  area_name\n",
       "0       529746        2020-12-01    North    Topanga\n",
       "1       268877        2020-06-04  Central   Wilshire\n",
       "2       752335        2020-12-05  Central    Rampart\n",
       "3       372424        2020-10-04    North  Northeast\n",
       "4        26689        2020-02-08  Central    Rampart"
      ]
     },
     "execution_count": 19,
     "metadata": {},
     "output_type": "execute_result"
    }
   ],
   "source": [
    "df_customers[\"area_name\"] = df_customers[\"region\"].apply(add_area_to_customer)\n",
    "df_customers.head()"
   ]
  },
  {
   "cell_type": "code",
   "execution_count": 20,
   "metadata": {},
   "outputs": [],
   "source": [
    "# Drop the region column as this is an implicit trend we are inserting in the data\n",
    "df_customers_out = df_customers.drop('region', axis=1)\n",
    "\n",
    "df_customers_out.to_csv('output/customers.csv', index=False)"
   ]
  },
  {
   "cell_type": "markdown",
   "metadata": {},
   "source": [
    "# Generate payments and ratings datasets"
   ]
  },
  {
   "cell_type": "markdown",
   "metadata": {},
   "source": [
    "For the customers events, we will create payments and ratings."
   ]
  },
  {
   "cell_type": "markdown",
   "metadata": {},
   "source": []
  }
 ],
 "metadata": {
  "kernelspec": {
   "display_name": "venv",
   "language": "python",
   "name": "python3"
  },
  "language_info": {
   "codemirror_mode": {
    "name": "ipython",
    "version": 3
   },
   "file_extension": ".py",
   "mimetype": "text/x-python",
   "name": "python",
   "nbconvert_exporter": "python",
   "pygments_lexer": "ipython3",
   "version": "3.10.4"
  }
 },
 "nbformat": 4,
 "nbformat_minor": 2
}
